{
 "cells": [
  {
   "cell_type": "markdown",
   "metadata": {},
   "source": [
    "# PROJET"
   ]
  },
  {
   "attachments": {},
   "cell_type": "markdown",
   "metadata": {},
   "source": [
    "# Import des libraries"
   ]
  },
  {
   "cell_type": "code",
   "execution_count": 1,
   "metadata": {},
   "outputs": [],
   "source": [
    "import findspark\n",
    "findspark.init()\n",
    "import pyspark\n",
    "\n",
    "# import pyspark.sql module\n",
    "from pyspark.sql import SparkSession\n",
    "\n",
    "# Create SparkSession object\n",
    "spark = SparkSession.builder \\\n",
    "                    .master('local[*]') \\\n",
    "                    .appName('FraudDetectionApp') \\\n",
    "                    .getOrCreate()"
   ]
  },
  {
   "cell_type": "code",
   "execution_count": 4,
   "metadata": {},
   "outputs": [],
   "source": [
    "import warnings\n",
    "warnings.filterwarnings('ignore')\n",
    "\n",
    "import os\n",
    "os.chdir('..')\n",
    "\n",
    "from utils.preprocessing import *\n",
    "from utils.model import *\n",
    "\n",
    "import matplotlib.pyplot as plt\n",
    "import seaborn as sns\n",
    "plt.rcParams['figure.figsize'] = (18, 8)"
   ]
  },
  {
   "attachments": {},
   "cell_type": "markdown",
   "metadata": {},
   "source": [
    "# Import des données"
   ]
  },
  {
   "cell_type": "code",
   "execution_count": null,
   "metadata": {},
   "outputs": [],
   "source": [
    "# import data\n",
    "indexed_data = spark.read.csv(r'C:\\Users\\User\\Documents\\M2big data\\ProjetMLib\\DetectionDeFraudeBancaire\\input_data\\newdata.csv',\n",
    "                         sep=',',\n",
    "                         header=True)"
   ]
  },
  {
   "cell_type": "code",
   "execution_count": null,
   "metadata": {},
   "outputs": [
    {
     "name": "stdout",
     "output_type": "stream",
     "text": [
      "+----+-------+--------------+--------------+-------+-------------+-------------+-----------+---------------+---------------+\n",
      "|step| amount|newbalanceOrig|oldbalanceDest|isFraud|     num_orig|     num_dest|typeIndexed|nameOrigIndexed|nameDestIndexed|\n",
      "+----+-------+--------------+--------------+-------+-------------+-------------+-----------+---------------+---------------+\n",
      "| 1.0|  181.0|           0.0|       21182.0|      1| 8.40083671E8| 8.40083671E8|        0.0|            0.0|            0.0|\n",
      "| 1.0|7861.64|     168225.59|           0.0|      0|1.912850431E9|1.912850431E9|        1.0|            0.0|            1.0|\n",
      "| 1.0|9644.94|           0.0|       10845.0|      0|1.900366749E9|1.900366749E9|        4.0|            0.0|            0.0|\n",
      "| 1.0|2560.74|       2509.26|           0.0|      0|1.648232591E9|1.648232591E9|        1.0|            0.0|            1.0|\n",
      "| 1.0|1563.82|           0.0|           0.0|      0| 7.61750706E8| 7.61750706E8|        1.0|            0.0|            1.0|\n",
      "+----+-------+--------------+--------------+-------+-------------+-------------+-----------+---------------+---------------+\n",
      "only showing top 5 rows\n",
      "\n"
     ]
    }
   ],
   "source": [
    "indexed_data.show(5)"
   ]
  },
  {
   "cell_type": "code",
   "execution_count": null,
   "metadata": {},
   "outputs": [
    {
     "name": "stdout",
     "output_type": "stream",
     "text": [
      "root\n",
      " |-- step: double (nullable = true)\n",
      " |-- amount: double (nullable = true)\n",
      " |-- newbalanceOrig: double (nullable = true)\n",
      " |-- oldbalanceDest: double (nullable = true)\n",
      " |-- isFraud: integer (nullable = true)\n",
      " |-- num_orig: double (nullable = true)\n",
      " |-- num_dest: double (nullable = true)\n",
      " |-- typeIndexed: double (nullable = false)\n",
      " |-- nameOrigIndexed: double (nullable = false)\n",
      " |-- nameDestIndexed: double (nullable = false)\n",
      "\n"
     ]
    }
   ],
   "source": [
    "indexed_data.printSchema()"
   ]
  },
  {
   "attachments": {},
   "cell_type": "markdown",
   "metadata": {},
   "source": [
    "## Transformer les données à l’aide de VectorAssembler :"
   ]
  },
  {
   "cell_type": "code",
   "execution_count": null,
   "metadata": {},
   "outputs": [],
   "source": [
    "vectorized_data = vectorize_fraud_data(indexed_data)"
   ]
  },
  {
   "cell_type": "code",
   "execution_count": null,
   "metadata": {},
   "outputs": [],
   "source": [
    "new_df = vectorized_data"
   ]
  },
  {
   "cell_type": "code",
   "execution_count": null,
   "metadata": {},
   "outputs": [
    {
     "name": "stdout",
     "output_type": "stream",
     "text": [
      "+--------------------+-------+\n",
      "|            features|isFraud|\n",
      "+--------------------+-------+\n",
      "|(10,[0,1,3,5,6],[...|      1|\n",
      "|[7861.64,176087.2...|      0|\n",
      "|[9644.94,4465.0,0...|      0|\n",
      "|[2560.74,5070.0,2...|      0|\n",
      "|[1563.82,450.0,0....|      0|\n",
      "+--------------------+-------+\n",
      "only showing top 5 rows\n",
      "\n"
     ]
    }
   ],
   "source": [
    "new_df['features','isFraud'].show(5)"
   ]
  },
  {
   "attachments": {},
   "cell_type": "markdown",
   "metadata": {},
   "source": [
    "### Choix du meilleur modèle de classification pour catégoriser les transactions bancaires et classifier les nouvelles transactions"
   ]
  },
  {
   "cell_type": "code",
   "execution_count": null,
   "metadata": {},
   "outputs": [
    {
     "data": {
      "text/plain": [
       "[2546215, 635592]"
      ]
     },
     "execution_count": 21,
     "metadata": {},
     "output_type": "execute_result"
    }
   ],
   "source": [
    "# Split the data to training sets and test sets :\n",
    "(train, test )= new_df.randomSplit([0.8, 0.2], seed=23)\n",
    "[train.count(), test.count()]"
   ]
  },
  {
   "attachments": {},
   "cell_type": "markdown",
   "metadata": {},
   "source": [
    "### Modèle de classification :  Logistic Regression "
   ]
  },
  {
   "cell_type": "code",
   "execution_count": null,
   "metadata": {},
   "outputs": [],
   "source": [
    "lr_model = lr_train(train)"
   ]
  },
  {
   "cell_type": "code",
   "execution_count": null,
   "metadata": {},
   "outputs": [
    {
     "name": "stdout",
     "output_type": "stream",
     "text": [
      "+-------+----------+------+\n",
      "|isFraud|prediction| count|\n",
      "+-------+----------+------+\n",
      "|      1|       0.0|   415|\n",
      "|      0|       0.0|634751|\n",
      "|      1|       1.0|   380|\n",
      "|      0|       1.0|    46|\n",
      "+-------+----------+------+\n",
      "\n",
      "Recall :  0.4779874213836478\n",
      "Precision :  0.892018779342723\n",
      "F1 Score :  0.6224406224406225\n",
      "Area under ROC = 0.9909929508193294\n",
      "Area under PR = 0.5130515281003208\n"
     ]
    }
   ],
   "source": [
    "lr_eval = lr_eval_test(lr_model, test)"
   ]
  },
  {
   "attachments": {},
   "cell_type": "markdown",
   "metadata": {},
   "source": [
    "### Modèle de classification :  Decision Tree Classifier"
   ]
  },
  {
   "cell_type": "code",
   "execution_count": null,
   "metadata": {},
   "outputs": [],
   "source": [
    "dt_model = Dt_train(train)"
   ]
  },
  {
   "cell_type": "code",
   "execution_count": null,
   "metadata": {},
   "outputs": [
    {
     "name": "stdout",
     "output_type": "stream",
     "text": [
      "+--------------------+---------------+-----------+----------+\n",
      "|            features|  rawPrediction|probability|prediction|\n",
      "+--------------------+---------------+-----------+----------+\n",
      "|[23.31,45360.0,45...|[1437028.0,0.0]|  [1.0,0.0]|       0.0|\n",
      "|(10,[0,5,6,7,9],[...|[1437028.0,0.0]|  [1.0,0.0]|       0.0|\n",
      "|[112.56,609035.85...|[1437028.0,0.0]|  [1.0,0.0]|       0.0|\n",
      "|[154.87,9339.0,91...|[1437028.0,0.0]|  [1.0,0.0]|       0.0|\n",
      "|[339.82,12076.0,1...|[1437028.0,0.0]|  [1.0,0.0]|       0.0|\n",
      "+--------------------+---------------+-----------+----------+\n",
      "only showing top 5 rows\n",
      "\n",
      "+-------+----------+------+\n",
      "|isFraud|prediction| count|\n",
      "+-------+----------+------+\n",
      "|      1|       0.0|   244|\n",
      "|      0|       0.0|634761|\n",
      "|      1|       1.0|   551|\n",
      "|      0|       1.0|    36|\n",
      "+-------+----------+------+\n",
      "\n",
      "Recall :  0.6930817610062893\n",
      "Precision :  0.938671209540034\n",
      "F1 Score :  0.7973950795947901\n",
      "Area under ROC = 0.7798224050687704\n",
      "Area under PR = 0.4142278715874976\n"
     ]
    }
   ],
   "source": [
    "dt_eval = Dt_eval_test(dt_model, test)"
   ]
  },
  {
   "attachments": {},
   "cell_type": "markdown",
   "metadata": {},
   "source": [
    "### Modèle de classification :  Random Forest Classifier"
   ]
  },
  {
   "cell_type": "code",
   "execution_count": null,
   "metadata": {},
   "outputs": [],
   "source": [
    "rf_model = rf_train(train)"
   ]
  },
  {
   "cell_type": "code",
   "execution_count": null,
   "metadata": {},
   "outputs": [
    {
     "name": "stdout",
     "output_type": "stream",
     "text": [
      "+-------+----------+------+\n",
      "|isFraud|prediction| count|\n",
      "+-------+----------+------+\n",
      "|      1|       0.0|   479|\n",
      "|      0|       0.0|634796|\n",
      "|      1|       1.0|   316|\n",
      "|      0|       1.0|     1|\n",
      "+-------+----------+------+\n",
      "\n",
      "Recall :  0.39748427672955977\n",
      "Precision :  0.9968454258675079\n",
      "F1 Score :  0.5683453237410073\n",
      "Area under ROC = 0.9692023953420934\n",
      "Area under PR = 0.7132785942938621\n"
     ]
    }
   ],
   "source": [
    "rf_eval = rf_eval_test(rf_model, test)"
   ]
  },
  {
   "attachments": {},
   "cell_type": "markdown",
   "metadata": {},
   "source": [
    "### Modèle de classification :  Gradient-Boosted Tree Classifier "
   ]
  },
  {
   "cell_type": "code",
   "execution_count": null,
   "metadata": {},
   "outputs": [],
   "source": [
    "GBT_model = GBT_train(train)"
   ]
  },
  {
   "cell_type": "code",
   "execution_count": null,
   "metadata": {},
   "outputs": [
    {
     "name": "stdout",
     "output_type": "stream",
     "text": [
      "+-------+----------+------+\n",
      "|isFraud|prediction| count|\n",
      "+-------+----------+------+\n",
      "|      1|       0.0|   237|\n",
      "|      0|       0.0|634783|\n",
      "|      1|       1.0|   558|\n",
      "|      0|       1.0|    14|\n",
      "+-------+----------+------+\n",
      "\n",
      "Recall :  0.7018867924528301\n",
      "Precision :  0.9755244755244755\n",
      "F1 Score :  0.8163862472567667\n",
      "Area under ROC = 0.9829058015208803\n",
      "Area under PR = 0.7807439732858391\n"
     ]
    }
   ],
   "source": [
    "GBT_eval = GBT_eval_test(GBT_model, test)"
   ]
  },
  {
   "attachments": {},
   "cell_type": "markdown",
   "metadata": {},
   "source": [
    "### Modèle de classification :  Naive Bayes"
   ]
  },
  {
   "cell_type": "code",
   "execution_count": null,
   "metadata": {},
   "outputs": [],
   "source": [
    "NB_model = NB_train(train)"
   ]
  },
  {
   "cell_type": "code",
   "execution_count": null,
   "metadata": {},
   "outputs": [
    {
     "name": "stdout",
     "output_type": "stream",
     "text": [
      "+-------+----------+------+\n",
      "|isFraud|prediction| count|\n",
      "+-------+----------+------+\n",
      "|      1|       0.0|   355|\n",
      "|      0|       0.0|596227|\n",
      "|      1|       1.0|   440|\n",
      "|      0|       1.0| 38570|\n",
      "+-------+----------+------+\n",
      "\n",
      "Recall :  0.5534591194968553\n",
      "Precision :  0.011279159189951295\n",
      "F1 Score :  0.022107775405099866\n",
      "Area under ROC = 0.49412195289727784\n",
      "Area under PR = 0.0012358315240476004\n"
     ]
    }
   ],
   "source": [
    "NB_eval = NB_eval_test(NB_model, test)"
   ]
  },
  {
   "attachments": {},
   "cell_type": "markdown",
   "metadata": {},
   "source": [
    "**Observation:** Le GRadient Boost Classifier est plus performant que les autres modèles si on considère toutes les métriques de l'évaluation. Donc c'est celui qui sera utilisé pour classer les nouvelles transactions."
   ]
  }
 ],
 "metadata": {
  "kernelspec": {
   "display_name": "Python 3",
   "language": "python",
   "name": "python3"
  },
  "language_info": {
   "codemirror_mode": {
    "name": "ipython",
    "version": 3
   },
   "file_extension": ".py",
   "mimetype": "text/x-python",
   "name": "python",
   "nbconvert_exporter": "python",
   "pygments_lexer": "ipython3",
   "version": "3.10.2 (tags/v3.10.2:a58ebcc, Jan 17 2022, 14:12:15) [MSC v.1929 64 bit (AMD64)]"
  },
  "vscode": {
   "interpreter": {
    "hash": "afb734500600fd355917ca529030176ea0ca205570884b88f2f6f7d791fd3fbe"
   }
  }
 },
 "nbformat": 4,
 "nbformat_minor": 4
}
