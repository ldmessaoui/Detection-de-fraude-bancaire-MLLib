{
 "cells": [
  {
   "attachments": {},
   "cell_type": "markdown",
   "metadata": {},
   "source": [
    "# Detection de fraude bancaire"
   ]
  },
  {
   "attachments": {},
   "cell_type": "markdown",
   "metadata": {},
   "source": [
    "## Import des libraries"
   ]
  },
  {
   "cell_type": "code",
   "execution_count": 1,
   "metadata": {},
   "outputs": [],
   "source": [
    "import findspark\n",
    "findspark.init()\n",
    "import pyspark\n",
    "\n",
    "# import pyspark.sql module\n",
    "from pyspark.sql import SparkSession\n",
    "\n",
    "# Create SparkSession object\n",
    "spark = SparkSession.builder \\\n",
    "                    .master('local[*]') \\\n",
    "                    .appName('FraudDetectionApp') \\\n",
    "                    .getOrCreate()"
   ]
  },
  {
   "cell_type": "code",
   "execution_count": 2,
   "metadata": {},
   "outputs": [],
   "source": [
    "import warnings\n",
    "warnings.filterwarnings('ignore')\n",
    "\n",
    "import os\n",
    "os.chdir('..')\n",
    "\n",
    "from utils.preprocessing import *\n",
    "from utils.model import *\n",
    "\n",
    "import matplotlib.pyplot as plt\n",
    "import seaborn as sns\n",
    "plt.rcParams['figure.figsize'] = (18, 8)"
   ]
  },
  {
   "attachments": {},
   "cell_type": "markdown",
   "metadata": {},
   "source": [
    "## Import des données"
   ]
  },
  {
   "cell_type": "code",
   "execution_count": 3,
   "metadata": {},
   "outputs": [
    {
     "name": "stdout",
     "output_type": "stream",
     "text": [
      "+----+--------+--------+-----------+-------------+--------------+-----------+--------------+--------------+-------+--------------+\n",
      "|step|    type|  amount|   nameOrig|oldbalanceOrg|newbalanceOrig|   nameDest|oldbalanceDest|newbalanceDest|isFraud|isFlaggedFraud|\n",
      "+----+--------+--------+-----------+-------------+--------------+-----------+--------------+--------------+-------+--------------+\n",
      "|   1| PAYMENT| 9839.64|C1231006815|     170136.0|     160296.36|M1979787155|           0.0|           0.0|      0|             0|\n",
      "|   1| PAYMENT| 1864.28|C1666544295|      21249.0|      19384.72|M2044282225|           0.0|           0.0|      0|             0|\n",
      "|   1|TRANSFER|   181.0|C1305486145|        181.0|           0.0| C553264065|           0.0|           0.0|      1|             0|\n",
      "|   1|CASH_OUT|   181.0| C840083671|        181.0|           0.0|  C38997010|       21182.0|           0.0|      1|             0|\n",
      "|   1| PAYMENT|11668.14|C2048537720|      41554.0|      29885.86|M1230701703|           0.0|           0.0|      0|             0|\n",
      "+----+--------+--------+-----------+-------------+--------------+-----------+--------------+--------------+-------+--------------+\n",
      "only showing top 5 rows\n",
      "\n"
     ]
    }
   ],
   "source": [
    "# import data\n",
    "df = spark.read.csv(r'C:\\Users\\User\\Documents\\M2big data\\ProjetMLib\\DetectionDeFraudeBancaire\\input_data\\creditcardsdata.csv',\n",
    "                         sep=',',\n",
    "                         header=True)\n",
    "\n",
    "# View the first five records\n",
    "df.show(5)"
   ]
  },
  {
   "cell_type": "code",
   "execution_count": 4,
   "metadata": {},
   "outputs": [],
   "source": [
    "# Select randomly 1M records\n",
    "df = df.sample(False, 0.5, 42)"
   ]
  },
  {
   "attachments": {},
   "cell_type": "markdown",
   "metadata": {},
   "source": [
    "# Pre-processing des données "
   ]
  },
  {
   "cell_type": "code",
   "execution_count": 5,
   "metadata": {},
   "outputs": [],
   "source": [
    "from pyspark.sql.types import DoubleType\n",
    "\n",
    "df = df.withColumn(\"step\", df.step.cast(DoubleType()))\n",
    "df = df.withColumn(\"amount\", df.amount.cast(DoubleType()))\n",
    "df = df.withColumn(\"newbalanceOrig\", df.newbalanceOrig.cast(DoubleType()))\n",
    "df = df.withColumn(\"oldbalanceDest\", df.oldbalanceDest.cast(DoubleType()))\n",
    "df = df.withColumn(\"isFraud\", df.isFraud.cast('int'))"
   ]
  },
  {
   "cell_type": "code",
   "execution_count": 6,
   "metadata": {},
   "outputs": [],
   "source": [
    "df = df.drop('isFlaggedFraud')\n",
    "df = df.drop('newbalanceDest')\n",
    "df = df.drop('oldbalanceOrg')"
   ]
  },
  {
   "cell_type": "code",
   "execution_count": 7,
   "metadata": {},
   "outputs": [],
   "source": [
    "data = df"
   ]
  },
  {
   "cell_type": "code",
   "execution_count": 8,
   "metadata": {},
   "outputs": [
    {
     "name": "stdout",
     "output_type": "stream",
     "text": [
      "root\n",
      " |-- step: double (nullable = true)\n",
      " |-- type: string (nullable = true)\n",
      " |-- amount: double (nullable = true)\n",
      " |-- nameOrig: string (nullable = true)\n",
      " |-- newbalanceOrig: double (nullable = true)\n",
      " |-- nameDest: string (nullable = true)\n",
      " |-- oldbalanceDest: double (nullable = true)\n",
      " |-- isFraud: integer (nullable = true)\n",
      "\n"
     ]
    }
   ],
   "source": [
    "data.printSchema()"
   ]
  },
  {
   "cell_type": "code",
   "execution_count": 9,
   "metadata": {},
   "outputs": [
    {
     "name": "stdout",
     "output_type": "stream",
     "text": [
      "+----+--------+-------+-----------+--------------+-----------+--------------+-------+\n",
      "|step|    type| amount|   nameOrig|newbalanceOrig|   nameDest|oldbalanceDest|isFraud|\n",
      "+----+--------+-------+-----------+--------------+-----------+--------------+-------+\n",
      "| 1.0|CASH_OUT|  181.0| C840083671|           0.0|  C38997010|       21182.0|      1|\n",
      "| 1.0| PAYMENT|7861.64|C1912850431|     168225.59| M633326333|           0.0|      0|\n",
      "| 1.0|   DEBIT|9644.94|C1900366749|           0.0| C997608398|       10845.0|      0|\n",
      "| 1.0| PAYMENT|2560.74|C1648232591|       2509.26| M972865270|           0.0|      0|\n",
      "| 1.0| PAYMENT|1563.82| C761750706|           0.0|M1731217984|           0.0|      0|\n",
      "+----+--------+-------+-----------+--------------+-----------+--------------+-------+\n",
      "only showing top 5 rows\n",
      "\n"
     ]
    }
   ],
   "source": [
    "data.show(5)"
   ]
  },
  {
   "cell_type": "code",
   "execution_count": 10,
   "metadata": {},
   "outputs": [
    {
     "name": "stdout",
     "output_type": "stream",
     "text": [
      "+--------+-----------+-----------+\n",
      "|    type|   nameOrig|   nameDest|\n",
      "+--------+-----------+-----------+\n",
      "|CASH_OUT| C840083671|  C38997010|\n",
      "| PAYMENT|C1912850431| M633326333|\n",
      "|   DEBIT|C1900366749| C997608398|\n",
      "| PAYMENT|C1648232591| M972865270|\n",
      "| PAYMENT| C761750706|M1731217984|\n",
      "+--------+-----------+-----------+\n",
      "only showing top 5 rows\n",
      "\n"
     ]
    }
   ],
   "source": [
    "data['type', 'nameOrig', 'nameDest'].show(5)"
   ]
  },
  {
   "attachments": {},
   "cell_type": "markdown",
   "metadata": {},
   "source": [
    "### separer nameOrig et nameDest :"
   ]
  },
  {
   "cell_type": "code",
   "execution_count": 11,
   "metadata": {},
   "outputs": [
    {
     "name": "stdout",
     "output_type": "stream",
     "text": [
      "+----+--------+-------+--------------+--------------+-------+--------+----------+--------+----------+\n",
      "|step|    type| amount|newbalanceOrig|oldbalanceDest|isFraud|str_orig|  num_orig|str_dest|  num_dest|\n",
      "+----+--------+-------+--------------+--------------+-------+--------+----------+--------+----------+\n",
      "| 1.0|CASH_OUT|  181.0|           0.0|       21182.0|      1|       C| 840083671|       C|  38997010|\n",
      "| 1.0| PAYMENT|7861.64|     168225.59|           0.0|      0|       C|1912850431|       M| 633326333|\n",
      "| 1.0|   DEBIT|9644.94|           0.0|       10845.0|      0|       C|1900366749|       C| 997608398|\n",
      "| 1.0| PAYMENT|2560.74|       2509.26|           0.0|      0|       C|1648232591|       M| 972865270|\n",
      "| 1.0| PAYMENT|1563.82|           0.0|           0.0|      0|       C| 761750706|       M|1731217984|\n",
      "+----+--------+-------+--------------+--------------+-------+--------+----------+--------+----------+\n",
      "only showing top 5 rows\n",
      "\n"
     ]
    }
   ],
   "source": [
    "data = sepNameOrig(data)\n",
    "data = sepNameDest(data)\n",
    "# show df\n",
    "data.show(5)"
   ]
  },
  {
   "cell_type": "code",
   "execution_count": 12,
   "metadata": {},
   "outputs": [],
   "source": [
    "#Transformer les variables \"num_orig\" et \"num_Dest\" en des variables numériques\n",
    "data = create_numDf(data)\n"
   ]
  },
  {
   "cell_type": "code",
   "execution_count": 14,
   "metadata": {},
   "outputs": [
    {
     "data": {
      "text/plain": [
       "[('step', 'double'),\n",
       " ('type', 'string'),\n",
       " ('amount', 'double'),\n",
       " ('newbalanceOrig', 'double'),\n",
       " ('oldbalanceDest', 'double'),\n",
       " ('isFraud', 'int'),\n",
       " ('str_orig', 'string'),\n",
       " ('num_orig', 'double'),\n",
       " ('str_dest', 'string'),\n",
       " ('num_dest', 'double')]"
      ]
     },
     "execution_count": 14,
     "metadata": {},
     "output_type": "execute_result"
    }
   ],
   "source": [
    "data.dtypes"
   ]
  },
  {
   "attachments": {},
   "cell_type": "markdown",
   "metadata": {},
   "source": [
    "### Appliquer OneHotEncoder aux variables type, str_orig et str_dest columns"
   ]
  },
  {
   "cell_type": "code",
   "execution_count": 15,
   "metadata": {},
   "outputs": [],
   "source": [
    "data = type_indexer(data)\n",
    "data = nameOrig_indexer(data)\n",
    "data = nameDest_indexer(data)\n",
    "indexed_data = data"
   ]
  },
  {
   "cell_type": "code",
   "execution_count": 16,
   "metadata": {},
   "outputs": [
    {
     "data": {
      "text/plain": [
       "[('step', 'double'),\n",
       " ('amount', 'double'),\n",
       " ('newbalanceOrig', 'double'),\n",
       " ('oldbalanceDest', 'double'),\n",
       " ('isFraud', 'int'),\n",
       " ('num_orig', 'double'),\n",
       " ('num_dest', 'double'),\n",
       " ('typeIndexed', 'double'),\n",
       " ('nameOrigIndexed', 'double'),\n",
       " ('nameDestIndexed', 'double')]"
      ]
     },
     "execution_count": 16,
     "metadata": {},
     "output_type": "execute_result"
    }
   ],
   "source": [
    "indexed_data.dtypes"
   ]
  },
  {
   "cell_type": "code",
   "execution_count": 17,
   "metadata": {},
   "outputs": [
    {
     "name": "stdout",
     "output_type": "stream",
     "text": [
      "+----+-------+--------------+--------------+-------+-------------+-------------+-----------+---------------+---------------+\n",
      "|step| amount|newbalanceOrig|oldbalanceDest|isFraud|     num_orig|     num_dest|typeIndexed|nameOrigIndexed|nameDestIndexed|\n",
      "+----+-------+--------------+--------------+-------+-------------+-------------+-----------+---------------+---------------+\n",
      "| 1.0|  181.0|           0.0|       21182.0|      1| 8.40083671E8| 8.40083671E8|        0.0|            0.0|            0.0|\n",
      "| 1.0|7861.64|     168225.59|           0.0|      0|1.912850431E9|1.912850431E9|        1.0|            0.0|            1.0|\n",
      "| 1.0|9644.94|           0.0|       10845.0|      0|1.900366749E9|1.900366749E9|        4.0|            0.0|            0.0|\n",
      "| 1.0|2560.74|       2509.26|           0.0|      0|1.648232591E9|1.648232591E9|        1.0|            0.0|            1.0|\n",
      "| 1.0|1563.82|           0.0|           0.0|      0| 7.61750706E8| 7.61750706E8|        1.0|            0.0|            1.0|\n",
      "+----+-------+--------------+--------------+-------+-------------+-------------+-----------+---------------+---------------+\n",
      "only showing top 5 rows\n",
      "\n"
     ]
    }
   ],
   "source": [
    "indexed_data.show(5)"
   ]
  },
  {
   "cell_type": "code",
   "execution_count": 19,
   "metadata": {},
   "outputs": [
    {
     "name": "stdout",
     "output_type": "stream",
     "text": [
      "root\n",
      " |-- step: double (nullable = true)\n",
      " |-- amount: double (nullable = true)\n",
      " |-- newbalanceOrig: double (nullable = true)\n",
      " |-- oldbalanceDest: double (nullable = true)\n",
      " |-- isFraud: integer (nullable = true)\n",
      " |-- num_orig: double (nullable = true)\n",
      " |-- num_dest: double (nullable = true)\n",
      " |-- typeIndexed: double (nullable = false)\n",
      " |-- nameOrigIndexed: double (nullable = false)\n",
      " |-- nameDestIndexed: double (nullable = false)\n",
      "\n"
     ]
    }
   ],
   "source": [
    "indexed_data.printSchema()"
   ]
  },
  {
   "cell_type": "code",
   "execution_count": 18,
   "metadata": {},
   "outputs": [
    {
     "name": "stdout",
     "output_type": "stream",
     "text": [
      "+-----------+-------+\n",
      "|typeIndexed|  count|\n",
      "+-----------+-------+\n",
      "|        0.0|1119671|\n",
      "|        1.0|1075718|\n",
      "|        4.0|  20830|\n",
      "|        3.0| 265771|\n",
      "|        2.0| 699817|\n",
      "+-----------+-------+\n",
      "\n"
     ]
    }
   ],
   "source": [
    "indexed_data.groupBy(\"typeIndexed\").count().show()"
   ]
  },
  {
   "cell_type": "code",
   "execution_count": null,
   "metadata": {},
   "outputs": [],
   "source": [
    "data.write.csv(\"/input_data\")"
   ]
  }
 ],
 "metadata": {
  "kernelspec": {
   "display_name": "Python 3",
   "language": "python",
   "name": "python3"
  },
  "language_info": {
   "codemirror_mode": {
    "name": "ipython",
    "version": 3
   },
   "file_extension": ".py",
   "mimetype": "text/x-python",
   "name": "python",
   "nbconvert_exporter": "python",
   "pygments_lexer": "ipython3",
   "version": "3.10.2"
  },
  "vscode": {
   "interpreter": {
    "hash": "afb734500600fd355917ca529030176ea0ca205570884b88f2f6f7d791fd3fbe"
   }
  }
 },
 "nbformat": 4,
 "nbformat_minor": 4
}
